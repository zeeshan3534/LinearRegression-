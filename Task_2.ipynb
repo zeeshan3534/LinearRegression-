{
  "nbformat": 4,
  "nbformat_minor": 0,
  "metadata": {
    "colab": {
      "name": "Task 2.ipynb",
      "provenance": []
    },
    "kernelspec": {
      "name": "python3",
      "display_name": "Python 3"
    },
    "language_info": {
      "name": "python"
    }
  },
  "cells": [
    {
      "cell_type": "code",
      "execution_count": 1,
      "metadata": {
        "id": "3XFAG4NlWciK"
      },
      "outputs": [],
      "source": [
        "import  pandas as pd\n",
        "from sklearn.model_selection import train_test_split\n",
        "import matplotlib.pyplot as plot\n",
        "from sklearn.linear_model import LinearRegression\n",
        "\n",
        "\n",
        "\n"
      ]
    },
    {
      "cell_type": "code",
      "source": [
        "file = pd.read_csv('Weather.csv' , low_memory=False)\n",
        "# print(file.head())\n",
        "x = file['MaxTemp'].values.reshape(-1,1)\n",
        "y = file['MinTemp'].values.reshape(-1,1)"
      ],
      "metadata": {
        "id": "dabeevh9ZnPw"
      },
      "execution_count": 2,
      "outputs": []
    },
    {
      "cell_type": "code",
      "source": [
        "X_test,X_train,y_test,y_train = train_test_split(x,y,test_size=0.2 , random_state=0)\n",
        "LR = LinearRegression()\n",
        "LR.fit(X_test,y_test)"
      ],
      "metadata": {
        "colab": {
          "base_uri": "https://localhost:8080/"
        },
        "id": "yhBNX-H3Z0gP",
        "outputId": "37b108c9-81f0-41ad-a047-4e0add153e1e"
      },
      "execution_count": 3,
      "outputs": [
        {
          "output_type": "execute_result",
          "data": {
            "text/plain": [
              "LinearRegression()"
            ]
          },
          "metadata": {},
          "execution_count": 3
        }
      ]
    },
    {
      "cell_type": "code",
      "source": [
        "plot.scatter(X_test,y_test,color = 'green')\n",
        "plot.plot(X_test , LR.predict(X_test) , color = 'red')\n",
        "\n",
        "plot.xlabel('maximum temperature')\n",
        "plot.ylabel('minimum temperature')\n",
        "plot.show()"
      ],
      "metadata": {
        "colab": {
          "base_uri": "https://localhost:8080/",
          "height": 281
        },
        "id": "W9A2kS_ZZ6RO",
        "outputId": "136f735d-85bf-493c-ae25-cf77e70b88dd"
      },
      "execution_count": 8,
      "outputs": [
        {
          "output_type": "display_data",
          "data": {
            "text/plain": [
              "<Figure size 432x288 with 1 Axes>"
            ],
            "image/png": "[encoded data removed]"
          },
          "metadata": {
            "needs_background": "light"
          }
        }
      ]
    },
    {
      "cell_type": "code",
      "source": [
        ""
      ],
      "metadata": {
        "id": "hohwURRUZ8AX"
      },
      "execution_count": 7,
      "outputs": []
    }
  ]
}